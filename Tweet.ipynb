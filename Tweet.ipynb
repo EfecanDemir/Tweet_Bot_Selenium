{
 "cells": [
  {
   "cell_type": "code",
   "execution_count": 11,
   "id": "455434d6",
   "metadata": {},
   "outputs": [
    {
     "ename": "KeyboardInterrupt",
     "evalue": "",
     "output_type": "error",
     "traceback": [
      "\u001b[1;31m---------------------------------------------------------------------------\u001b[0m",
      "\u001b[1;31mKeyboardInterrupt\u001b[0m                         Traceback (most recent call last)",
      "\u001b[1;32m<ipython-input-11-8dd75ec27175>\u001b[0m in \u001b[0;36m<module>\u001b[1;34m\u001b[0m\n\u001b[0;32m     56\u001b[0m \u001b[1;32mwhile\u001b[0m \u001b[0msayi\u001b[0m \u001b[1;33m<=\u001b[0m\u001b[1;36m100\u001b[0m\u001b[1;33m:\u001b[0m\u001b[1;33m\u001b[0m\u001b[1;33m\u001b[0m\u001b[0m\n\u001b[0;32m     57\u001b[0m     \u001b[0mtweet2\u001b[0m\u001b[1;33m=\u001b[0m\u001b[0mrastgele_sifre_uret\u001b[0m\u001b[1;33m(\u001b[0m\u001b[1;36m1\u001b[0m\u001b[1;33m)\u001b[0m\u001b[1;33m+\u001b[0m\u001b[0mtweet\u001b[0m\u001b[1;33m\u001b[0m\u001b[1;33m\u001b[0m\u001b[0m\n\u001b[1;32m---> 58\u001b[1;33m     \u001b[0mtwtr\u001b[0m\u001b[1;33m.\u001b[0m\u001b[0mtweeting\u001b[0m\u001b[1;33m(\u001b[0m\u001b[1;33m)\u001b[0m\u001b[1;33m\u001b[0m\u001b[1;33m\u001b[0m\u001b[0m\n\u001b[0m\u001b[0;32m     59\u001b[0m     \u001b[0msayi\u001b[0m \u001b[1;33m=\u001b[0m \u001b[0msayi\u001b[0m\u001b[1;33m+\u001b[0m\u001b[1;36m1\u001b[0m\u001b[1;33m\u001b[0m\u001b[1;33m\u001b[0m\u001b[0m\n",
      "\u001b[1;32m<ipython-input-11-8dd75ec27175>\u001b[0m in \u001b[0;36mtweeting\u001b[1;34m(self)\u001b[0m\n\u001b[0;32m     39\u001b[0m         \u001b[1;31m#self.browser.find_element_by_xpath(\"//*[@id='react-root']/div/div/div[2]/main/div/div/div/div[1]/div/div[2]/div/div[2]/div[1]/div/div/div/div[2]/div[1]/div/div/div/div/div/div/div/div[2]\").click()\u001b[0m\u001b[1;33m\u001b[0m\u001b[1;33m\u001b[0m\u001b[1;33m\u001b[0m\u001b[0m\n\u001b[0;32m     40\u001b[0m         \u001b[0mself\u001b[0m\u001b[1;33m.\u001b[0m\u001b[0mbrowser\u001b[0m\u001b[1;33m.\u001b[0m\u001b[0mfind_element_by_xpath\u001b[0m\u001b[1;33m(\u001b[0m\u001b[1;34m\"//*[@id='react-root']/div/div/div[2]/main/div/div/div/div/div/div[2]/div/div[2]/div[1]/div/div/div/div[2]/div[3]/div/div/div[2]/div[3]/div/span/span\"\u001b[0m\u001b[1;33m)\u001b[0m\u001b[1;33m.\u001b[0m\u001b[0mclick\u001b[0m\u001b[1;33m(\u001b[0m\u001b[1;33m)\u001b[0m\u001b[1;33m\u001b[0m\u001b[1;33m\u001b[0m\u001b[0m\n\u001b[1;32m---> 41\u001b[1;33m         \u001b[0mtime\u001b[0m\u001b[1;33m.\u001b[0m\u001b[0msleep\u001b[0m\u001b[1;33m(\u001b[0m\u001b[1;36m2\u001b[0m\u001b[1;33m)\u001b[0m\u001b[1;33m\u001b[0m\u001b[1;33m\u001b[0m\u001b[0m\n\u001b[0m\u001b[0;32m     42\u001b[0m \u001b[1;33m\u001b[0m\u001b[0m\n\u001b[0;32m     43\u001b[0m \u001b[1;33m\u001b[0m\u001b[0m\n",
      "\u001b[1;31mKeyboardInterrupt\u001b[0m: "
     ]
    }
   ],
   "source": [
    "from selenium import webdriver\n",
    "from selenium.webdriver.common.keys import Keys\n",
    "from selenium.webdriver.common.by import By\n",
    "import time\n",
    "import random\n",
    "import string\n",
    "import warnings\n",
    "\n",
    "warnings.filterwarnings(\"ignore\", category=DeprecationWarning) \n",
    "\n",
    "email = \"\"\n",
    "password = \"\"\n",
    "tweet = \"\"\n",
    "\n",
    "class Twitter:\n",
    "    def __init__(self,email,password,tweet):\n",
    "        self.browser = webdriver.Chrome()\n",
    "        self.email = email\n",
    "        self.password = password\n",
    "        self.tweet=tweet\n",
    "        \n",
    "    def signIn(self):\n",
    "        self.browser.get(\"https://twitter.com/login\")\n",
    "        time.sleep(3)\n",
    "        \n",
    "        emailInput= self.browser.find_element(By.NAME,\"username\").send_keys(self.email)\n",
    "        self.browser.find_element(By.NAME,\"username\").send_keys(Keys.ENTER)\n",
    "        time.sleep(2)\n",
    "        \n",
    "        passwordInput= self.browser.find_element(By.NAME,\"password\").send_keys(self.password)\n",
    "        self.browser.find_element(By.NAME,\"password\").send_keys(Keys.ENTER)\n",
    "        time.sleep(2)\n",
    "        \n",
    "    def tweeting(self):\n",
    "        self.browser.get(\"https://twitter.com/home\")\n",
    "        time.sleep(3)\n",
    "        \n",
    "        self.browser.find_element_by_xpath(\"//*[@id='react-root']/div/div/div[2]/main/div/div/div/div/div/div[2]/div/div[2]/div[1]/div/div/div/div[2]/div[1]/div/div/div/div/div/div/div/div/div/label/div[1]/div/div/div/div/div[2]/div/div/div/div\").click()\n",
    "        self.browser.find_element_by_xpath(\"//*[@id='react-root']/div/div/div[2]/main/div/div/div/div/div/div[2]/div/div[2]/div[1]/div/div/div/div[2]/div[1]/div/div/div/div/div/div/div/div/div/label/div[1]/div/div/div/div/div[2]/div/div/div/div\").send_keys(tweet2)\n",
    "        #self.browser.find_element_by_xpath(\"//*[@id='react-root']/div/div/div[2]/main/div/div/div/div[1]/div/div[2]/div/div[2]/div[1]/div/div/div/div[2]/div[1]/div/div/div/div/div/div/div/div[2]\").click() \n",
    "        self.browser.find_element_by_xpath(\"//*[@id='react-root']/div/div/div[2]/main/div/div/div/div/div/div[2]/div/div[2]/div[1]/div/div/div/div[2]/div[3]/div/div/div[2]/div[3]/div/span/span\").click()\n",
    "        time.sleep(2)\n",
    "        \n",
    "\n",
    "        \n",
    "        \n",
    "def rastgele_sifre_uret(uzunluk):\n",
    "    harfler = string.ascii_letters\n",
    "    sonuc = ''.join(random.sample(harfler, uzunluk))\n",
    "    return sonuc  \n",
    "\n",
    "twtr = Twitter(email,password,tweet)\n",
    "twtr.signIn()\n",
    "\n",
    "sayi=0\n",
    " \n",
    "while sayi <=100:\n",
    "    tweet2=rastgele_sifre_uret(4)+tweet\n",
    "    twtr.tweeting()\n",
    "    sayi = sayi+1\n"
   ]
  }
 ],
 "metadata": {
  "kernelspec": {
   "display_name": "Python 3",
   "language": "python",
   "name": "python3"
  },
  "language_info": {
   "codemirror_mode": {
    "name": "ipython",
    "version": 3
   },
   "file_extension": ".py",
   "mimetype": "text/x-python",
   "name": "python",
   "nbconvert_exporter": "python",
   "pygments_lexer": "ipython3",
   "version": "3.8.8"
  }
 },
 "nbformat": 4,
 "nbformat_minor": 5
}
